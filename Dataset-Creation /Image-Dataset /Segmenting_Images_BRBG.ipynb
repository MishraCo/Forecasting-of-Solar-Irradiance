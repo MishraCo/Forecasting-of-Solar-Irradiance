{
  "nbformat": 4,
  "nbformat_minor": 0,
  "metadata": {
    "colab": {
      "provenance": []
    },
    "kernelspec": {
      "name": "python3",
      "display_name": "Python 3"
    },
    "language_info": {
      "name": "python"
    }
  },
  "cells": [
    {
      "cell_type": "markdown",
      "source": [
        "\n",
        "\n",
        "\n",
        "### Semantic Segmentation Of Images to calculate the cloud cover percentage, sky and Sun positions.\n",
        "\n",
        "\n"
      ],
      "metadata": {
        "id": "KRjaqxwno4Lq"
      }
    },
    {
      "cell_type": "code",
      "source": [
        "# Function to prevent idleness of the Collab Notebook\n",
        "\"\"\"\n",
        "function ConnectButton(){\n",
        "  console.log(\"Connect pushed\");\n",
        "  document.querySelector(\"#top-toolbar > colab-connectbutton\").shadowRoot.querySelector(\"#connect\").click()\n",
        "}\n",
        "setInterval(ConnectButton,60000);\n",
        "\"\"\""
      ],
      "metadata": {
        "id": "FETzuGDrXEDT"
      },
      "execution_count": null,
      "outputs": []
    },
    {
      "cell_type": "code",
      "execution_count": null,
      "metadata": {
        "id": "r7ePYiOtHlwX"
      },
      "outputs": [],
      "source": [
        "#importing necessary libraries\n",
        "\n",
        "import cv2\n",
        "import numpy as np\n",
        "from PIL import Image\n",
        "import matplotlib.pyplot as plt\n",
        "import os\n",
        "from datetime import datetime\n",
        "import threading"
      ]
    },
    {
      "cell_type": "code",
      "source": [
        "#mount drive\n",
        "from google.colab import drive\n",
        "drive.mount('/content/drive')"
      ],
      "metadata": {
        "colab": {
          "base_uri": "https://localhost:8080/"
        },
        "id": "1KmkcHQHHvmA",
        "outputId": "b9185490-d974-4c5c-9fab-93a6812beba7"
      },
      "execution_count": null,
      "outputs": [
        {
          "output_type": "stream",
          "name": "stdout",
          "text": [
            "Mounted at /content/drive\n"
          ]
        }
      ]
    },
    {
      "cell_type": "markdown",
      "source": [
        "# Finding Sun in the picture"
      ],
      "metadata": {
        "id": "hL0tcuJMlxvd"
      }
    },
    {
      "cell_type": "code",
      "source": [
        "\n",
        "def find_sun(image_path):\n",
        "    image = cv2.imread(image_path)\n",
        "\n",
        "    # plt.imshow(cv2.cvtColor(image, cv2.COLOR_BGR2RGB))\n",
        "    # # plt.title('Processed Image with Sun Detection')\n",
        "    # plt.axis('off')\n",
        "    # plt.show()\n",
        "\n",
        "    if image is None:\n",
        "        print(\"Error: Unable to load the image.\")\n",
        "        exit()\n",
        "\n",
        "    # Convert the image to grayscale\n",
        "    gray = cv2.cvtColor(image, cv2.COLOR_BGR2GRAY)\n",
        "    # Apply GaussianBlur to reduce noise and help with contour detection\n",
        "    blurred = cv2.GaussianBlur(gray, (15, 15), 0)  # kernel size\n",
        "    # Use adaptive thresholding to create a binary image\n",
        "    _, thresh = cv2.threshold(blurred, 230, 255, cv2.THRESH_BINARY)\n",
        "    # Find contours in the binary image\n",
        "    contours, _ = cv2.findContours(thresh, cv2.RETR_EXTERNAL, cv2.CHAIN_APPROX_SIMPLE)\n",
        "\n",
        "    if len(contours) > 0:\n",
        "        # Iterate through the contours and find the contour with the largest area (assumed to be the sun)\n",
        "        largest_contour = max(contours, key=cv2.contourArea)\n",
        "        # Get the bounding box of the contour\n",
        "        x, y, w, h = cv2.boundingRect(largest_contour)\n",
        "        sun_coordinates, sun_radius = (x + w // 2, y + h // 2), max(w // 2, h // 2)\n",
        "\n",
        "        if sun_radius < 50:\n",
        "            sun_radius = 50\n",
        "        if sun_radius > 100:\n",
        "            sun_radius = 100\n",
        "\n",
        "        # Draw a yellow circle around the sun\n",
        "        cv2.circle(image, sun_coordinates, sun_radius, (0, 255, 255), thickness=-1)\n",
        "\n",
        "    # plt.imshow(cv2.cvtColor(image, cv2.COLOR_BGR2RGB))\n",
        "    # # plt.title('Processed Image with Sun Detection')\n",
        "    # plt.axis('off')\n",
        "    # plt.show()\n",
        "\n",
        "    return image"
      ],
      "metadata": {
        "id": "Depp7-22H2H-"
      },
      "execution_count": null,
      "outputs": []
    },
    {
      "cell_type": "markdown",
      "source": [
        "# BRBG_segmentation (Semantic)"
      ],
      "metadata": {
        "id": "JVmwRmn-l7hG"
      }
    },
    {
      "cell_type": "code",
      "source": [
        "def BRBG_segmentation(image_path):\n",
        "    sun_image = find_sun(image_path)\n",
        "    # Check if the image was loaded successfully\n",
        "    sky = 0\n",
        "    cloud = 0\n",
        "    if sun_image is None:\n",
        "        print(\"Error: Unable to load sun image.\")\n",
        "        exit()\n",
        "\n",
        "    # Get image dimensions\n",
        "    height, width, _ = sun_image.shape\n",
        "    center_x, center_y = width // 2, height // 2\n",
        "    radius = height // 2\n",
        "\n",
        "    # Create an empty output image\n",
        "    output_image = np.zeros_like(sun_image)\n",
        "\n",
        "    # Iterate through each pixel in the image\n",
        "    for y in range(height):\n",
        "        for x in range(width):\n",
        "            # Get blue, green, and red intensity values for the current pixel\n",
        "            b = float(sun_image[y, x, 0])\n",
        "            g = float(sun_image[y, x, 1])\n",
        "            r = float(sun_image[y, x, 2])\n",
        "\n",
        "            distance_to_center = np.sqrt((x - center_x)**2 + (y - center_y)**2)\n",
        "\n",
        "            # Avoid division by zero by adding a small epsilon value\n",
        "            epsilon = 1e-5\n",
        "\n",
        "            # Calculate the threshold value for the current pixel\n",
        "            threshold = (b / (r + epsilon)) + (b / (g + epsilon))\n",
        "\n",
        "            if b == 0 and r == 0 and g == 0: # Outside the circle\n",
        "                threshold = 0\n",
        "            if b == 0 and r == 255 and g == 255: # Sun\n",
        "                threshold = -1\n",
        "\n",
        "            # Define the threshold value\n",
        "            threshold_value = 2.5  # You may adjust this value based on your image characteristics\n",
        "\n",
        "            # Classify the pixel based on the threshold\n",
        "            if radius < distance_to_center:\n",
        "                output_image[y, x, :] = [0, 0, 0]\n",
        "            elif threshold < 0:\n",
        "                sky += 1\n",
        "                output_image[y, x, :] = [0, 255, 255]\n",
        "            else:\n",
        "                if threshold > threshold_value:\n",
        "                    sky += 1\n",
        "                    # Pixel is above the threshold, set it to blue\n",
        "                    output_image[y, x, :] = [255, 34, 34]\n",
        "                else:\n",
        "                    cloud += 1\n",
        "                    # Pixel is below the threshold, set it to grey\n",
        "                    output_image[y, x, :] = [128, 128, 128]\n",
        "    cloud_cover = (cloud/(sky+cloud)) * 100\n",
        "\n",
        "    # Display the result using matplotlib\n",
        "    # plt.imshow(cv2.cvtColor(output_image, cv2.COLOR_BGR2RGB))\n",
        "    # # plt.title('Processed Image with Sun Detection')\n",
        "    # plt.axis('off')\n",
        "    # plt.show()\n",
        "\n",
        "    return output_image, cloud_cover"
      ],
      "metadata": {
        "id": "RTimwQ_FH7_q"
      },
      "execution_count": null,
      "outputs": []
    },
    {
      "cell_type": "code",
      "source": [
        "source_folder = \"/content/drive/MyDrive/Extracted_2023\"\n",
        "dest_folder = \"/content/drive/MyDrive/Image Dataset Curation/Segmentation/2023hourly_new\"\n",
        "date_format = \"%Y%m%d%H%M%S\"\n",
        "csv_file_path = '../content/drive/MyDrive/Image Dataset Curation/Segmentation/cloud_cover_hourly_2023_new.csv'"
      ],
      "metadata": {
        "id": "sapm-aUuJCLA"
      },
      "execution_count": null,
      "outputs": []
    },
    {
      "cell_type": "code",
      "source": [
        "import os\n",
        "\n",
        "count = 0\n",
        "# Iterate directory\n",
        "for path in os.listdir(source_folder):\n",
        "    # check if current path is a file\n",
        "    if os.path.isfile(os.path.join(source_folder, path)):\n",
        "        count += 1\n",
        "print('File count:', count)\n",
        "file_list = []\n",
        "for filename in os.listdir(source_folder):\n",
        "    #As picking images with 60 mins time interval to match the numerical dataset\n",
        "    if \"0000_12_UE\" in filename:\n",
        "        file_list.append(filename)"
      ],
      "metadata": {
        "colab": {
          "base_uri": "https://localhost:8080/"
        },
        "id": "mTdKe9c6JKOC",
        "outputId": "f6c2f2a3-2396-4f3a-c2c1-7b1db4472fd8"
      },
      "execution_count": null,
      "outputs": [
        {
          "output_type": "stream",
          "name": "stdout",
          "text": [
            "File count: 21305\n"
          ]
        }
      ]
    },
    {
      "cell_type": "code",
      "source": [
        "len(file_list)"
      ],
      "metadata": {
        "colab": {
          "base_uri": "https://localhost:8080/"
        },
        "id": "lmCvPtnRJbO4",
        "outputId": "d06c7eea-dc6b-4c7d-ceea-ff4cf4d63c20"
      },
      "execution_count": null,
      "outputs": [
        {
          "output_type": "execute_result",
          "data": {
            "text/plain": [
              "3292"
            ]
          },
          "metadata": {},
          "execution_count": 9
        }
      ]
    },
    {
      "cell_type": "markdown",
      "source": [
        "# Saving the segmented images in Folder"
      ],
      "metadata": {
        "id": "R8vA6I3tpPwb"
      }
    },
    {
      "cell_type": "code",
      "source": [
        "for filename in file_list:\n",
        "    image_path = os.path.join(source_folder, filename)\n",
        "    output_image, cloud_cover = BRBG_segmentation(image_path)\n",
        "    dest_path = os.path.join(dest_folder, filename)\n",
        "    cv2.imwrite(dest_path, output_image)\n",
        "    date_string = filename.split(\"_\")[0]\n",
        "    date_object = datetime.strptime(date_string, date_format)\n",
        "    date = date_object.strftime(\"%Y-%m-%d %H:%M:%S\")\n",
        "    with open(csv_file_path, 'a', newline='') as file:\n",
        "        row = f\"{date}\\t{cloud_cover}\\n\"\n",
        "        file.write(row)"
      ],
      "metadata": {
        "id": "1JdEk2WHJfV3"
      },
      "execution_count": null,
      "outputs": []
    }
  ]
}