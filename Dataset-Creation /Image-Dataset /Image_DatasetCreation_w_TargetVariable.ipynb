{
  "nbformat": 4,
  "nbformat_minor": 0,
  "metadata": {
    "colab": {
      "provenance": []
    },
    "kernelspec": {
      "name": "python3",
      "display_name": "Python 3"
    },
    "language_info": {
      "name": "python"
    }
  },
  "cells": [
    {
      "cell_type": "code",
      "execution_count": null,
      "metadata": {
        "colab": {
          "base_uri": "https://localhost:8080/"
        },
        "id": "zVh2to1XP7N2",
        "outputId": "9c183a90-d995-48cd-cb5d-7d73ea72efaf"
      },
      "outputs": [
        {
          "output_type": "stream",
          "name": "stdout",
          "text": [
            "Mounted at /content/drive\n"
          ]
        }
      ],
      "source": [
        "#mount drive\n",
        "from google.colab import drive\n",
        "drive.mount('/content/drive')"
      ]
    },
    {
      "cell_type": "code",
      "source": [
        "import os\n",
        "import shutil\n",
        "import glob\n",
        "import pandas as pd"
      ],
      "metadata": {
        "id": "7tp59wt7QsSY"
      },
      "execution_count": null,
      "outputs": []
    },
    {
      "cell_type": "code",
      "source": [
        "source_folders = ['/content/drive/MyDrive/Image Dataset Curation/Segmentation/hourly-2021', '/content/drive/MyDrive/Image Dataset Curation/Segmentation/2022','/content/drive/MyDrive/Image Dataset Curation/Segmentation/2023hourly_new']  # Replace with the actual folder names\n",
        "destination_folder = '/content/drive/MyDrive/Image Dataset Curation/Final_Images'  # Replace with the desired destination folder name"
      ],
      "metadata": {
        "id": "XiPhiSAGR3l-"
      },
      "execution_count": null,
      "outputs": []
    },
    {
      "cell_type": "code",
      "source": [
        "#Create the destination folder if it doesn't exist\n",
        "if not os.path.exists(destination_folder):\n",
        "    os.makedirs(destination_folder)"
      ],
      "metadata": {
        "id": "NG-dGZ_TSclP"
      },
      "execution_count": null,
      "outputs": []
    },
    {
      "cell_type": "code",
      "source": [
        "for source_folder in source_folders:\n",
        "    for filename in os.listdir(source_folder):\n",
        "        if filename.endswith(('.jpg', '.jpeg', '.png')):  # Add more file extensions if needed\n",
        "            source_path = os.path.join(source_folder, filename)\n",
        "            destination_path = os.path.join(destination_folder, filename)\n",
        "            shutil.copy(source_path, destination_path)"
      ],
      "metadata": {
        "id": "U1MQ6opvSpZA"
      },
      "execution_count": null,
      "outputs": []
    },
    {
      "cell_type": "code",
      "source": [
        "# Use glob to get paths to the merged images\n",
        "image_paths = glob.glob(os.path.join(destination_folder, '*.jpg'))"
      ],
      "metadata": {
        "id": "l86zal1HVgkM"
      },
      "execution_count": null,
      "outputs": []
    },
    {
      "cell_type": "code",
      "source": [
        "# Create a DataFrame with the image paths\n",
        "df = pd.DataFrame({'image_path': image_paths})"
      ],
      "metadata": {
        "id": "8stpw529WGNT"
      },
      "execution_count": null,
      "outputs": []
    },
    {
      "cell_type": "code",
      "source": [
        "# Create a DataFrame with columns for year, month, date, time, and image_path\n",
        "df = pd.DataFrame({\n",
        "    'image_path': image_paths,\n",
        "    'filename': [os.path.basename(path) for path in image_paths],\n",
        "})"
      ],
      "metadata": {
        "id": "UAbT8cdNXJfB"
      },
      "execution_count": null,
      "outputs": []
    },
    {
      "cell_type": "code",
      "source": [
        "# Extract year, month, date, and year from the filename and convert them to datetime objects\n",
        "df['year'] = df['filename'].str.extract(r'(\\d{4})\\d{10}_')\n",
        "df['month'] = df['filename'].str.extract(r'\\d{4}(\\d{2})\\d{8}_')\n",
        "df['date'] = df['filename'].str.extract(r'\\d{6}(\\d{2})\\d{6}_')\n",
        "df['time'] = df['filename'].str.extract(r'\\d{7}(\\d{6})_')"
      ],
      "metadata": {
        "id": "VQgvwKywWXUY"
      },
      "execution_count": null,
      "outputs": []
    },
    {
      "cell_type": "code",
      "source": [
        "# Convert the extracted components to datetime objects\n",
        "df['datetime'] = pd.to_datetime(df['year'] + df['month'] + df['date'] + df['time'], format='%Y%m%d%H%M%S')"
      ],
      "metadata": {
        "id": "vkp_GJ3IZMk_"
      },
      "execution_count": null,
      "outputs": []
    },
    {
      "cell_type": "code",
      "source": [
        "# Sort the DataFrame based on the 'datetime' column\n",
        "df.sort_values(by='datetime', inplace=True)"
      ],
      "metadata": {
        "id": "988h9MoYZxTa"
      },
      "execution_count": null,
      "outputs": []
    },
    {
      "cell_type": "code",
      "source": [
        "# Reset the index if needed\n",
        "df.reset_index(drop=True, inplace=True)"
      ],
      "metadata": {
        "id": "vq0qAF3KcVQE"
      },
      "execution_count": null,
      "outputs": []
    },
    {
      "cell_type": "code",
      "source": [
        "#Numerical Dataset\n",
        "df2=pd.read_csv(\"/content/drive/MyDrive/Numerical Dataset Curation/Meteorological_Data.csv\")"
      ],
      "metadata": {
        "id": "mFgg4aDochzI"
      },
      "execution_count": null,
      "outputs": []
    },
    {
      "cell_type": "code",
      "source": [
        "df2['DATETIME'] = pd.to_datetime(df2['DATETIME'])"
      ],
      "metadata": {
        "id": "4OYIjvdbdQLJ"
      },
      "execution_count": null,
      "outputs": []
    },
    {
      "cell_type": "code",
      "source": [
        "# Rename the 'DATETIME' column in df2 to 'datetime' to match df\n",
        "df2.rename(columns={'DATETIME': 'datetime'}, inplace=True)"
      ],
      "metadata": {
        "id": "iTjHI43Jd2Ci"
      },
      "execution_count": null,
      "outputs": []
    },
    {
      "cell_type": "code",
      "source": [
        "# Merge the DataFrames on 'datetime' using an inner join\n",
        "Image_Dataset = df.merge(df2, on='datetime', how='inner')"
      ],
      "metadata": {
        "id": "z7DA1NHVdZea"
      },
      "execution_count": null,
      "outputs": []
    },
    {
      "cell_type": "code",
      "source": [
        "Image_Dataset.columns"
      ],
      "metadata": {
        "colab": {
          "base_uri": "https://localhost:8080/"
        },
        "id": "CVUVrPtDe8rF",
        "outputId": "83a235cc-9585-4883-91fe-21720fdf82da"
      },
      "execution_count": null,
      "outputs": [
        {
          "output_type": "execute_result",
          "data": {
            "text/plain": [
              "Index(['image_path', 'filename', 'year', 'month', 'date', 'time', 'datetime',\n",
              "       'Avg BRBG Total Cloud Cover [%]', 'Avg CDOC Total Cloud Cover [%]',\n",
              "       'Avg CDOC Thick Cloud Cover [%]', 'Avg CDOC Thin Cloud Cover [%]',\n",
              "       'Avg Sun Flag', 'Avg HCF Value', 'Avg Blue/Red_min', 'Avg Blue/Red_mid',\n",
              "       'Avg Blue/Red_max', 'Avg File Extension',\n",
              "       'Avg Global CMP22 (vent/cor) [W/m^2]', 'Avg Zenith Angle [degrees]',\n",
              "       'Avg Azimuth Angle [degrees]', 'Avg Solar Eclipse Shading',\n",
              "       'Avg Tower Dew Point Temp [deg C]', 'Avg Total Cloud Cover [%]',\n",
              "       'Avg Opaque Cloud Cover [%]', 'Avg Avg Wind Speed @ 6ft [m/s]',\n",
              "       'Avg Precipitation [mm]', 'Avg Moisture', 'Avg Albedo (CMP11)'],\n",
              "      dtype='object')"
            ]
          },
          "metadata": {},
          "execution_count": 39
        }
      ]
    },
    {
      "cell_type": "code",
      "source": [
        "columns_to_keep = ['image_path', 'datetime', 'Avg Global CMP22 (vent/cor) [W/m^2]']\n",
        "Image_Dataset_Final = Image_Dataset[columns_to_keep]"
      ],
      "metadata": {
        "id": "A1bNN5BNfAKt"
      },
      "execution_count": null,
      "outputs": []
    },
    {
      "cell_type": "code",
      "source": [
        "# Save the DataFrame to a CSV file\n",
        "Image_Dataset_Final.to_csv('/content/drive/MyDrive/Image Dataset Curation/Image_Dataset_Final.csv', index=False)"
      ],
      "metadata": {
        "id": "AA4XJD1sfx_M"
      },
      "execution_count": null,
      "outputs": []
    },
    {
      "cell_type": "code",
      "source": [
        "# Save the Raw DataFrame to a CSV file\n",
        "Image_Dataset.to_csv('/content/drive/MyDrive/Image Dataset Curation/Raw_Image_Dataset.csv', index=False)"
      ],
      "metadata": {
        "id": "FqPKn17sgn4T"
      },
      "execution_count": null,
      "outputs": []
    }
  ]
}