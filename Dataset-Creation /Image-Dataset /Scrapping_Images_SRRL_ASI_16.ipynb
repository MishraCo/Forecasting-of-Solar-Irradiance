{
  "nbformat": 4,
  "nbformat_minor": 0,
  "metadata": {
    "colab": {
      "provenance": []
    },
    "kernelspec": {
      "name": "python3",
      "display_name": "Python 3"
    },
    "language_info": {
      "name": "python"
    }
  },
  "cells": [
    {
      "cell_type": "markdown",
      "source": [
        "Web Scrapping of All Sky Images to zip folders based on Years."
      ],
      "metadata": {
        "id": "pwDCjy4rHcs9"
      }
    },
    {
      "cell_type": "code",
      "execution_count": null,
      "metadata": {
        "id": "Pypv80fWaQng"
      },
      "outputs": [],
      "source": [
        "from google.colab import drive\n",
        "import os\n",
        "import requests\n",
        "\n",
        "#Mount Drive\n",
        "Mount Google Drive\n",
        "drive.mount('/content/drive')\n",
        "\n",
        "# Define the base URL\n",
        "base_url = \"https://midcdmz.nrel.gov/tsi/SRRLASI/\"\n",
        "\n",
        "# Iterate over years (2021 to 2023)\n",
        "for year in range(2021,2024):\n",
        "    # Iterate over months (1 to 12)\n",
        "    for month in range(1, 13):\n",
        "        # Iterate over days (1 to 31)\n",
        "        for day in range(1, 32):\n",
        "            # Format the date as YYYYMMDD\n",
        "            date_str = f\"{year}{month:02d}{day:02d}\"\n",
        "\n",
        "            # Construct the download URL\n",
        "            download_url = f\"{base_url}{year}/{date_str}.zip\"\n",
        "\n",
        "            # Check if the URL exists and the file can be downloaded\n",
        "            response = requests.head(download_url)\n",
        "            if response.status_code == 200:\n",
        "                # Create a directory for the year if it doesn't exist in Google Drive\n",
        "                year_directory_drive = '/content/drive/MyDrive/All Sky Images/' + str(year)\n",
        "                if not os.path.exists(year_directory_drive):\n",
        "                    os.mkdir(year_directory_drive)\n",
        "\n",
        "                # Download the file to Google Drive\n",
        "                file_name_drive = os.path.join(year_directory_drive, f\"{date_str}.zip\")\n",
        "                with open(file_name_drive, 'wb') as file:\n",
        "                    file.write(requests.get(download_url).content)\n",
        "                print(f\"Downloaded: {file_name_drive}\")\n",
        "            else:\n",
        "                # If the URL does not exist, move to the next date\n",
        "                print(download_url)\n",
        "                continue\n"
      ]
    }
  ]
}